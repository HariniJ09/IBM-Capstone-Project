{
 "cells": [
  {
   "cell_type": "code",
   "execution_count": 204,
   "metadata": {},
   "outputs": [
    {
     "name": "stdout",
     "output_type": "stream",
     "text": [
      "(210, 3)\n"
     ]
    }
   ],
   "source": [
    "import numpy as np\n",
    "import matplotlib.pyplot as plt\n",
    "import pandas as pd\n",
    "import seaborn as sns\n",
    "toronto_table = pd.read_csv('scraped_table.tsv', sep='\\t', na_values='Not assigned')\n",
    "'''In the line above we are changing all \\'Not assigned\\' values as NaN'''\n",
    "toronto_table.dropna(subset=['Borough'],inplace=True)\n",
    "print(toronto_table.shape)"
   ]
  },
  {
   "cell_type": "markdown",
   "metadata": {},
   "source": [
    "We set 'Not assigned' values as Nan for easier data handling."
   ]
  },
  {
   "cell_type": "markdown",
   "metadata": {},
   "source": [
    "### In order to perform groupby and agg function we are converting all data tpes to string for uniformity.\n",
    "   We then do groupby-agg and join the returned list from groupby object using a comma"
   ]
  },
  {
   "cell_type": "code",
   "execution_count": 205,
   "metadata": {},
   "outputs": [
    {
     "name": "stdout",
     "output_type": "stream",
     "text": [
      "    Postcode      Borough                                      Neighbourhood\n",
      "0        M1B  Scarborough                                      Rouge,Malvern\n",
      "1        M1C  Scarborough               Highland Creek,Rouge Hill,Port Union\n",
      "2        M1E  Scarborough                    Guildwood,Morningside,West Hill\n",
      "3        M1G  Scarborough                                             Woburn\n",
      "4        M1H  Scarborough                                          Cedarbrae\n",
      "..       ...          ...                                                ...\n",
      "98       M9N         York                                             Weston\n",
      "99       M9P    Etobicoke                                          Westmount\n",
      "100      M9R    Etobicoke  Kingsview Village,Martin Grove Gardens,Richvie...\n",
      "101      M9V    Etobicoke  Albion Gardens,Beaumond Heights,Humbergate,Jam...\n",
      "102      M9W    Etobicoke                                          Northwest\n",
      "\n",
      "[103 rows x 3 columns]\n"
     ]
    }
   ],
   "source": [
    "#df.groupby('A')['C'].apply(lambda x: \"{%s}\" % ', '.join(x))\n",
    "toronto_table['Neighbourhood']  = toronto_table['Neighbourhood'].astype(str)\n",
    "toronto_table['Postcode'] = toronto_table['Postcode'].astype(str)\n",
    "toronto_table['Borough'] = toronto_table['Borough'].astype(str)\n",
    "'''In order to perform groupby and agg function we are converting all data tpes to string for uniformity.\n",
    "   We then do groupby-agg and join the returned list from groupby object using a comma '''\n",
    "toronto_table = toronto_table.groupby(['Postcode','Borough'])['Neighbourhood'].agg(lambda col: ','.join(col)).reset_index()\n",
    "#toronto_table.groupby('Postcode')['Neighbourhood'].apply(lambda x: ', '.join(x))\n",
    "print(toronto_table)"
   ]
  },
  {
   "cell_type": "code",
   "execution_count": 206,
   "metadata": {},
   "outputs": [
    {
     "name": "stdout",
     "output_type": "stream",
     "text": [
      "    Postcode           Borough  \\\n",
      "63       M5N   Central Toronto   \n",
      "64       M5P   Central Toronto   \n",
      "65       M5R   Central Toronto   \n",
      "66       M5S  Downtown Toronto   \n",
      "67       M5T  Downtown Toronto   \n",
      "68       M5V  Downtown Toronto   \n",
      "69       M5W  Downtown Toronto   \n",
      "70       M5X  Downtown Toronto   \n",
      "71       M6A        North York   \n",
      "72       M6B        North York   \n",
      "73       M6C              York   \n",
      "74       M6E              York   \n",
      "75       M6G  Downtown Toronto   \n",
      "76       M6H      West Toronto   \n",
      "77       M6J      West Toronto   \n",
      "78       M6K      West Toronto   \n",
      "79       M6L        North York   \n",
      "80       M6M              York   \n",
      "81       M6N              York   \n",
      "82       M6P      West Toronto   \n",
      "83       M6R      West Toronto   \n",
      "84       M6S      West Toronto   \n",
      "85       M7A  Downtown Toronto   \n",
      "86       M7R       Mississauga   \n",
      "87       M7Y      East Toronto   \n",
      "88       M8V         Etobicoke   \n",
      "89       M8W         Etobicoke   \n",
      "90       M8X         Etobicoke   \n",
      "91       M8Y         Etobicoke   \n",
      "92       M8Z         Etobicoke   \n",
      "93       M9A      Queen's Park   \n",
      "94       M9B         Etobicoke   \n",
      "95       M9C         Etobicoke   \n",
      "96       M9L        North York   \n",
      "97       M9M        North York   \n",
      "98       M9N              York   \n",
      "99       M9P         Etobicoke   \n",
      "100      M9R         Etobicoke   \n",
      "101      M9V         Etobicoke   \n",
      "102      M9W         Etobicoke   \n",
      "\n",
      "                                         Neighbourhood  \n",
      "63                                            Roselawn  \n",
      "64                  Forest Hill North,Forest Hill West  \n",
      "65                   The Annex,North Midtown,Yorkville  \n",
      "66                       Harbord,University of Toronto  \n",
      "67             Chinatown,Grange Park,Kensington Market  \n",
      "68   CN Tower,Bathurst Quay,Island airport,Harbourf...  \n",
      "69                     Stn A PO Boxes 25 The Esplanade  \n",
      "70               First Canadian Place,Underground city  \n",
      "71                     Lawrence Heights,Lawrence Manor  \n",
      "72                                           Glencairn  \n",
      "73                                  Humewood-Cedarvale  \n",
      "74                                 Caledonia-Fairbanks  \n",
      "75                                            Christie  \n",
      "76                         Dovercourt Village,Dufferin  \n",
      "77                             Little Portugal,Trinity  \n",
      "78          Brockton,Exhibition Place,Parkdale Village  \n",
      "79                    Downsview,North Park,Upwood Park  \n",
      "80         Del Ray,Keelesdale,Mount Dennis,Silverthorn  \n",
      "81                        The Junction North,Runnymede  \n",
      "82                        High Park,The Junction South  \n",
      "83                               Parkdale,Roncesvalles  \n",
      "84                                   Runnymede,Swansea  \n",
      "85                                        Queen's Park  \n",
      "86               Canada Post Gateway Processing Centre  \n",
      "87   Business Reply Mail Processing Centre 969 Eastern  \n",
      "88          Humber Bay Shores,Mimico South,New Toronto  \n",
      "89                               Alderwood,Long Branch  \n",
      "90         The Kingsway,Montgomery Road,Old Mill North  \n",
      "91   Humber Bay,King's Mill Park,Kingsway Park Sout...  \n",
      "92   Kingsway Park South West,Mimico NW,The Queensw...  \n",
      "93                                                 nan  \n",
      "94   Cloverdale,Islington,Martin Grove,Princess Gar...  \n",
      "95   Bloordale Gardens,Eringate,Markland Wood,Old B...  \n",
      "96                                       Humber Summit  \n",
      "97                                     Emery,Humberlea  \n",
      "98                                              Weston  \n",
      "99                                           Westmount  \n",
      "100  Kingsview Village,Martin Grove Gardens,Richvie...  \n",
      "101  Albion Gardens,Beaumond Heights,Humbergate,Jam...  \n",
      "102                                          Northwest  \n",
      "(103, 3)\n"
     ]
    }
   ],
   "source": [
    "print(toronto_table.tail(40))\n",
    "print(toronto_table.shape)"
   ]
  },
  {
   "cell_type": "markdown",
   "metadata": {},
   "source": [
    "#### We replace the values of 'nan' (remember it is a string rather than a np.nan value we check for since we converted all the values in all fields as 'str')"
   ]
  },
  {
   "cell_type": "code",
   "execution_count": 198,
   "metadata": {},
   "outputs": [
    {
     "data": {
      "text/plain": [
       "(103, 3)"
      ]
     },
     "execution_count": 198,
     "metadata": {},
     "output_type": "execute_result"
    }
   ],
   "source": [
    "toronto_table['Neighbourhood'].replace('nan', toronto_table['Borough'],inplace=True)\n",
    "toronto_table.shape\n"
   ]
  },
  {
   "cell_type": "code",
   "execution_count": 199,
   "metadata": {},
   "outputs": [
    {
     "data": {
      "text/html": [
       "<div>\n",
       "<style scoped>\n",
       "    .dataframe tbody tr th:only-of-type {\n",
       "        vertical-align: middle;\n",
       "    }\n",
       "\n",
       "    .dataframe tbody tr th {\n",
       "        vertical-align: top;\n",
       "    }\n",
       "\n",
       "    .dataframe thead th {\n",
       "        text-align: right;\n",
       "    }\n",
       "</style>\n",
       "<table border=\"1\" class=\"dataframe\">\n",
       "  <thead>\n",
       "    <tr style=\"text-align: right;\">\n",
       "      <th></th>\n",
       "      <th>Postcode</th>\n",
       "      <th>Borough</th>\n",
       "      <th>Neighbourhood</th>\n",
       "    </tr>\n",
       "  </thead>\n",
       "  <tbody>\n",
       "    <tr>\n",
       "      <td>92</td>\n",
       "      <td>M8Z</td>\n",
       "      <td>Etobicoke</td>\n",
       "      <td>Kingsway Park South West,Mimico NW,The Queensw...</td>\n",
       "    </tr>\n",
       "    <tr>\n",
       "      <td>93</td>\n",
       "      <td>M9A</td>\n",
       "      <td>Queen's Park</td>\n",
       "      <td>Queen's Park</td>\n",
       "    </tr>\n",
       "    <tr>\n",
       "      <td>94</td>\n",
       "      <td>M9B</td>\n",
       "      <td>Etobicoke</td>\n",
       "      <td>Cloverdale,Islington,Martin Grove,Princess Gar...</td>\n",
       "    </tr>\n",
       "    <tr>\n",
       "      <td>95</td>\n",
       "      <td>M9C</td>\n",
       "      <td>Etobicoke</td>\n",
       "      <td>Bloordale Gardens,Eringate,Markland Wood,Old B...</td>\n",
       "    </tr>\n",
       "    <tr>\n",
       "      <td>96</td>\n",
       "      <td>M9L</td>\n",
       "      <td>North York</td>\n",
       "      <td>Humber Summit</td>\n",
       "    </tr>\n",
       "    <tr>\n",
       "      <td>97</td>\n",
       "      <td>M9M</td>\n",
       "      <td>North York</td>\n",
       "      <td>Emery,Humberlea</td>\n",
       "    </tr>\n",
       "    <tr>\n",
       "      <td>98</td>\n",
       "      <td>M9N</td>\n",
       "      <td>York</td>\n",
       "      <td>Weston</td>\n",
       "    </tr>\n",
       "    <tr>\n",
       "      <td>99</td>\n",
       "      <td>M9P</td>\n",
       "      <td>Etobicoke</td>\n",
       "      <td>Westmount</td>\n",
       "    </tr>\n",
       "    <tr>\n",
       "      <td>100</td>\n",
       "      <td>M9R</td>\n",
       "      <td>Etobicoke</td>\n",
       "      <td>Kingsview Village,Martin Grove Gardens,Richvie...</td>\n",
       "    </tr>\n",
       "    <tr>\n",
       "      <td>101</td>\n",
       "      <td>M9V</td>\n",
       "      <td>Etobicoke</td>\n",
       "      <td>Albion Gardens,Beaumond Heights,Humbergate,Jam...</td>\n",
       "    </tr>\n",
       "    <tr>\n",
       "      <td>102</td>\n",
       "      <td>M9W</td>\n",
       "      <td>Etobicoke</td>\n",
       "      <td>Northwest</td>\n",
       "    </tr>\n",
       "  </tbody>\n",
       "</table>\n",
       "</div>"
      ],
      "text/plain": [
       "    Postcode       Borough                                      Neighbourhood\n",
       "92       M8Z     Etobicoke  Kingsway Park South West,Mimico NW,The Queensw...\n",
       "93       M9A  Queen's Park                                       Queen's Park\n",
       "94       M9B     Etobicoke  Cloverdale,Islington,Martin Grove,Princess Gar...\n",
       "95       M9C     Etobicoke  Bloordale Gardens,Eringate,Markland Wood,Old B...\n",
       "96       M9L    North York                                      Humber Summit\n",
       "97       M9M    North York                                    Emery,Humberlea\n",
       "98       M9N          York                                             Weston\n",
       "99       M9P     Etobicoke                                          Westmount\n",
       "100      M9R     Etobicoke  Kingsview Village,Martin Grove Gardens,Richvie...\n",
       "101      M9V     Etobicoke  Albion Gardens,Beaumond Heights,Humbergate,Jam...\n",
       "102      M9W     Etobicoke                                          Northwest"
      ]
     },
     "execution_count": 199,
     "metadata": {},
     "output_type": "execute_result"
    }
   ],
   "source": [
    "toronto_table.tail(11)"
   ]
  },
  {
   "cell_type": "code",
   "execution_count": 200,
   "metadata": {},
   "outputs": [
    {
     "data": {
      "text/plain": [
       "(103, 3)"
      ]
     },
     "execution_count": 200,
     "metadata": {},
     "output_type": "execute_result"
    }
   ],
   "source": [
    "toronto_table.shape"
   ]
  },
  {
   "cell_type": "code",
   "execution_count": null,
   "metadata": {},
   "outputs": [],
   "source": []
  }
 ],
 "metadata": {
  "kernelspec": {
   "display_name": "Python 3",
   "language": "python",
   "name": "python3"
  },
  "language_info": {
   "codemirror_mode": {
    "name": "ipython",
    "version": 3
   },
   "file_extension": ".py",
   "mimetype": "text/x-python",
   "name": "python",
   "nbconvert_exporter": "python",
   "pygments_lexer": "ipython3",
   "version": "3.7.4"
  }
 },
 "nbformat": 4,
 "nbformat_minor": 2
}
